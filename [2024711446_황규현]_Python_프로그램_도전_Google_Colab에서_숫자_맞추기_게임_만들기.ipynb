{
  "nbformat": 4,
  "nbformat_minor": 0,
  "metadata": {
    "colab": {
      "provenance": []
    },
    "kernelspec": {
      "name": "python3",
      "display_name": "Python 3"
    },
    "language_info": {
      "name": "python"
    }
  },
  "cells": [
    {
      "cell_type": "markdown",
      "source": [
        "#### 랜덤 숫자 생성 함수: `generate_random_number`\n",
        "이 함수는 `random.randint`를 사용하여 1부터 100 사이의 랜덤 숫자를 생성하고 반환합니다. 게임에서 컴퓨터가 맞추어야 할 숫자를 결정하는 데 사용됩니다."
      ],
      "metadata": {
        "id": "4l11GXR6eLSq"
      }
    },
    {
      "cell_type": "code",
      "source": [
        "import random\n",
        "\n",
        "def generate_random_number():\n",
        "    return random.randint(1, 100)"
      ],
      "metadata": {
        "id": "ftfoT2j_dlLA"
      },
      "execution_count": 4,
      "outputs": []
    },
    {
      "cell_type": "markdown",
      "source": [
        "#### 사용자 입력 받기 함수: `get_user_input`\n",
        "이 함수는 `input` 함수를 통해 사용자로부터 1부터 100 사이의 숫자를 입력받습니다. 이 입력은 정수로 변환되어 반환되며, 이후 숫자 맞추기 검증에 사용됩니다.\n"
      ],
      "metadata": {
        "id": "wVMXxa4VeN7S"
      }
    },
    {
      "cell_type": "code",
      "source": [
        "def get_user_input():\n",
        "    return int(input(\"1부터 100 사이의 숫자를 입력하세요: \"))"
      ],
      "metadata": {
        "id": "JZcWo6MKd-ok"
      },
      "execution_count": 5,
      "outputs": []
    },
    {
      "cell_type": "markdown",
      "source": [
        "#### 숫자 검사 함수: `check_number`\n",
        "이 함수는 사용자가 입력한 숫자(`guess`)와 컴퓨터가 생성한 랜덤 숫자(`answer`)를 비교합니다. 사용자의 숫자가 더 작으면 \"더 큰 숫자입니다.\"를, 더 크면 \"더 작은 숫자입니다.\"를 반환합니다. 숫자가 일치할 경우 \"정답입니다!\"를 반환하여 게임이 종료됨을 알립니다.\n"
      ],
      "metadata": {
        "id": "TJ7k7ymKeQjV"
      }
    },
    {
      "cell_type": "code",
      "source": [
        "def check_number(guess, answer):\n",
        "    if guess < answer:\n",
        "        return \"더 큰 숫자입니다.\"\n",
        "    elif guess > answer:\n",
        "        return \"더 작은 숫자입니다.\"\n",
        "    else:\n",
        "        return \"정답입니다!\""
      ],
      "metadata": {
        "id": "k-gMhc1XeAg0"
      },
      "execution_count": 6,
      "outputs": []
    },
    {
      "cell_type": "markdown",
      "source": [
        "#### 게임 실행 함수: `play_game`\n",
        "이 함수는 게임의 메인 로직을 실행합니다. 먼저 `generate_random_number` 함수를 호출하여 랜덤 숫자를 생성하고, 이후 반복문 내에서 `get_user_input` 함수를 통해 사용자의 입력을 받습니다. 입력받은 숫자는 `check_number` 함수를 통해 검사되며, 결과에 따라 힌트를 제공하거나 정답 메시지를 출력하고 게임을 종료합니다.\n"
      ],
      "metadata": {
        "id": "nTnc77byeT-u"
      }
    },
    {
      "cell_type": "code",
      "source": [
        "def play_game():\n",
        "    random_number = generate_random_number()\n",
        "    while True:\n",
        "        user_guess = get_user_input()\n",
        "        result = check_number(user_guess, random_number)\n",
        "        print(result)\n",
        "        if result == \"정답입니다!\":\n",
        "            break"
      ],
      "metadata": {
        "id": "c8Bv1SN-eCWk"
      },
      "execution_count": 7,
      "outputs": []
    },
    {
      "cell_type": "markdown",
      "source": [
        "#### 아래 셀을 실행하여 게임 시작"
      ],
      "metadata": {
        "id": "io-q74sGeWnG"
      }
    },
    {
      "cell_type": "code",
      "source": [
        "play_game()"
      ],
      "metadata": {
        "colab": {
          "base_uri": "https://localhost:8080/"
        },
        "id": "AGLokEpHeEF6",
        "outputId": "a4b96250-3540-4a6c-bcf4-6ba4997d82e6"
      },
      "execution_count": 8,
      "outputs": [
        {
          "output_type": "stream",
          "name": "stdout",
          "text": [
            "1부터 100 사이의 숫자를 입력하세요: 50\n",
            "더 작은 숫자입니다.\n",
            "1부터 100 사이의 숫자를 입력하세요: 25\n",
            "더 작은 숫자입니다.\n",
            "1부터 100 사이의 숫자를 입력하세요: 15\n",
            "정답입니다!\n"
          ]
        }
      ]
    }
  ]
}